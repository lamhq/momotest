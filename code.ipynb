{
 "cells": [
  {
   "attachments": {},
   "cell_type": "markdown",
   "metadata": {},
   "source": [
    "## Load data"
   ]
  },
  {
   "cell_type": "code",
   "execution_count": null,
   "metadata": {},
   "outputs": [],
   "source": [
    "import pandas as pd\n",
    "\n",
    "# Load data from excel\n",
    "# load all sheets with sheet_name=None\n",
    "# mark DATE as date type\n",
    "sheets = pd.read_excel(\"MoMo-Case-challenge-for-DA.xlsx\", sheet_name=None)\n",
    "\n",
    "# transDf contain the data of `Transactions` table\n",
    "transDf = sheets[\"Data. Transactions\"]\n",
    "transDf['DATE'] = pd.to_datetime(transDf['DATE'])\n",
    "\n",
    "# transDf contain the data of `Loyalty Points` table\n",
    "pointDf = sheets[\"Data. Loyalty Points\"]\n",
    "\n",
    "# benefitDf contain the data of `Loyalty Benefits` table\n",
    "benefitDf = sheets[\"Data. Loyalty benefits\"]\n",
    "\n",
    "pointDf.head()"
   ]
  },
  {
   "cell_type": "markdown",
   "metadata": {},
   "source": [
    "Create Ranking table:"
   ]
  },
  {
   "cell_type": "code",
   "execution_count": null,
   "metadata": {},
   "outputs": [],
   "source": [
    "rankDf = pd.DataFrame({'Class_ID': [1, 2, 3, 4],\n",
    "        'Rank_name': ['STANDARD', 'SILVER', 'GOLD', 'DIAMOND'],\n",
    "        'Loyalty_Points': [999, 1999, 4999, 5000]})\n",
    "rankDf.head()"
   ]
  },
  {
   "cell_type": "markdown",
   "metadata": {},
   "source": [
    "## Normalize data"
   ]
  },
  {
   "attachments": {},
   "cell_type": "markdown",
   "metadata": {},
   "source": [
    "Convert `Point Mechanism` to number:"
   ]
  },
  {
   "cell_type": "code",
   "execution_count": null,
   "metadata": {},
   "outputs": [],
   "source": [
    "pointDf['Point Mechanism'] = pd.to_numeric(pointDf['Point Mechanism'].str.replace(' points/1000VND GMV', ''), errors='coerce')\n",
    "pointDf.head()"
   ]
  },
  {
   "attachments": {},
   "cell_type": "markdown",
   "metadata": {},
   "source": [
    "Convert `Maximum Point Per Trans` to number:"
   ]
  },
  {
   "cell_type": "code",
   "execution_count": null,
   "metadata": {},
   "outputs": [],
   "source": [
    "pointDf['Maximum Point Per Trans'] = pd.to_numeric(pointDf['Maximum Point Per Trans'].str.replace(' points', ''), errors='coerce')\n",
    "pointDf.head()"
   ]
  },
  {
   "attachments": {},
   "cell_type": "markdown",
   "metadata": {},
   "source": [
    "## Part 1\n",
    "\n",
    "### Combined with the `Loyalty Points` table, add a column `Loyalty_Points` in the `Transactions` table with the given rules. "
   ]
  },
  {
   "cell_type": "code",
   "execution_count": null,
   "metadata": {},
   "outputs": [],
   "source": [
    "mergedDf = pd.merge(transDf, pointDf, on='Service Group')\n",
    "mergedDf['Loyalty_Points'] = mergedDf.apply(lambda x: min(x['GMV'] * x['Point Mechanism'], x['Maximum Point Per Trans']), axis=1)\n",
    "\n",
    "transDf['Loyalty_Points'] = mergedDf['Loyalty_Points']\n",
    "transDf.head()"
   ]
  },
  {
   "attachments": {},
   "cell_type": "markdown",
   "metadata": {},
   "source": [
    "### Create another table named `Loyalty Ranking` which must include columns named `Rank_name` and `Calculated_points` to calculate the Rank of each user on a daily basis."
   ]
  },
  {
   "cell_type": "code",
   "execution_count": null,
   "metadata": {},
   "outputs": [],
   "source": [
    "def get_rank(point):\n",
    "    ranks = rankDf[rankDf['Loyalty_Points'] < 3000].sort_values(by=['Loyalty_Points'], ascending=False)\n",
    "    highest_rank = ranks.iloc[0]['Rank_name'] if len(ranks) >= 1 else rankDf[0]['Rank_name']\n",
    "    return highest_rank\n",
    "\n",
    "# add Calculated_points column\n",
    "userRankDf = transDf.groupby(['DATE', 'User_id'])['Loyalty_Points'].sum().reset_index()\n",
    "userRankDf.rename(columns={'Loyalty_Points': 'Calculated_points'}, inplace=True)\n",
    "\n",
    "# add Rank_name column\n",
    "userRankDf['Rank_name'] = userRankDf['Calculated_points'].apply(get_rank)\n",
    "\n",
    "userRankDf.head()"
   ]
  },
  {
   "attachments": {},
   "cell_type": "markdown",
   "metadata": {},
   "source": [
    "### At the end of Mar 2022, how many users achieved the GOLD rank?\n"
   ]
  },
  {
   "cell_type": "code",
   "execution_count": 76,
   "metadata": {},
   "outputs": [
    {
     "name": "stdout",
     "output_type": "stream",
     "text": [
      "At the end of Mar 2022, 0 users achieved the GOLD rank\n"
     ]
    }
   ],
   "source": [
    "end_of_mar_2022 = pd.Timestamp('2022-03-31')\n",
    "rank = 'GOLD'\n",
    "result = userRankDf[(userRankDf['DATE'] <= end_of_mar_2022) & (userRankDf['Rank_name'] == rank)]\n",
    "print(f'At the end of Mar 2022, {len(result)} users achieved the {rank} rank')\n"
   ]
  }
 ],
 "metadata": {
  "kernelspec": {
   "display_name": "Python 3",
   "language": "python",
   "name": "python3"
  },
  "language_info": {
   "codemirror_mode": {
    "name": "ipython",
    "version": 3
   },
   "file_extension": ".py",
   "mimetype": "text/x-python",
   "name": "python",
   "nbconvert_exporter": "python",
   "pygments_lexer": "ipython3",
   "version": "3.8.9"
  },
  "orig_nbformat": 4,
  "vscode": {
   "interpreter": {
    "hash": "31f2aee4e71d21fbe5cf8b01ff0e069b9275f58929596ceb00d14d90e3e16cd6"
   }
  }
 },
 "nbformat": 4,
 "nbformat_minor": 2
}
