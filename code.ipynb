{
 "cells": [
  {
   "attachments": {},
   "cell_type": "markdown",
   "metadata": {},
   "source": [
    "*Note*: If you want to run this script on your machine. Please run the script `install.ipynb` first"
   ]
  },
  {
   "attachments": {},
   "cell_type": "markdown",
   "metadata": {},
   "source": [
    "## Load data"
   ]
  },
  {
   "cell_type": "code",
   "execution_count": 14,
   "metadata": {},
   "outputs": [
    {
     "data": {
      "text/html": [
       "<div>\n",
       "<style scoped>\n",
       "    .dataframe tbody tr th:only-of-type {\n",
       "        vertical-align: middle;\n",
       "    }\n",
       "\n",
       "    .dataframe tbody tr th {\n",
       "        vertical-align: top;\n",
       "    }\n",
       "\n",
       "    .dataframe thead th {\n",
       "        text-align: right;\n",
       "    }\n",
       "</style>\n",
       "<table border=\"1\" class=\"dataframe\">\n",
       "  <thead>\n",
       "    <tr style=\"text-align: right;\">\n",
       "      <th></th>\n",
       "      <th>Service Group</th>\n",
       "      <th>Point Mechanism</th>\n",
       "      <th>Maximum Point Per Trans</th>\n",
       "    </tr>\n",
       "  </thead>\n",
       "  <tbody>\n",
       "    <tr>\n",
       "      <th>0</th>\n",
       "      <td>supermarket</td>\n",
       "      <td>1 points/1000VND GMV</td>\n",
       "      <td>500 points</td>\n",
       "    </tr>\n",
       "    <tr>\n",
       "      <th>1</th>\n",
       "      <td>data</td>\n",
       "      <td>10 points/1000VND GMV</td>\n",
       "      <td>1000 points</td>\n",
       "    </tr>\n",
       "    <tr>\n",
       "      <th>2</th>\n",
       "      <td>cvs</td>\n",
       "      <td>1 points/1000VND GMV</td>\n",
       "      <td>300 points</td>\n",
       "    </tr>\n",
       "    <tr>\n",
       "      <th>3</th>\n",
       "      <td>marketplace</td>\n",
       "      <td>1 points/1000VND GMV</td>\n",
       "      <td>500 points</td>\n",
       "    </tr>\n",
       "    <tr>\n",
       "      <th>4</th>\n",
       "      <td>Coffee chains and Milk tea</td>\n",
       "      <td>1 points/1000VND GMV</td>\n",
       "      <td>500 points</td>\n",
       "    </tr>\n",
       "  </tbody>\n",
       "</table>\n",
       "</div>"
      ],
      "text/plain": [
       "                Service Group        Point Mechanism Maximum Point Per Trans\n",
       "0                 supermarket   1 points/1000VND GMV              500 points\n",
       "1                        data  10 points/1000VND GMV             1000 points\n",
       "2                         cvs   1 points/1000VND GMV              300 points\n",
       "3                 marketplace   1 points/1000VND GMV              500 points\n",
       "4  Coffee chains and Milk tea   1 points/1000VND GMV              500 points"
      ]
     },
     "execution_count": 14,
     "metadata": {},
     "output_type": "execute_result"
    }
   ],
   "source": [
    "import pandas as pd\n",
    "\n",
    "# Load data from excel\n",
    "# load all sheets with sheet_name=None\n",
    "# mark DATE as date type\n",
    "sheets = pd.read_excel(\"MoMo-Case-challenge-for-DA.xlsx\", sheet_name=None)\n",
    "\n",
    "# transDf contain the data of `Transactions` table\n",
    "transDf = sheets[\"Data. Transactions\"]\n",
    "\n",
    "# transDf contain the data of `Loyalty Points` table\n",
    "pointDf = sheets[\"Data. Loyalty Points\"]\n",
    "\n",
    "# benefitDf contain the data of `Loyalty Benefits` table\n",
    "benefitDf = sheets[\"Data. Loyalty benefits\"]\n",
    "\n",
    "pointDf.head()"
   ]
  },
  {
   "cell_type": "markdown",
   "metadata": {},
   "source": [
    "Create Ranking table:"
   ]
  },
  {
   "cell_type": "code",
   "execution_count": 15,
   "metadata": {},
   "outputs": [
    {
     "data": {
      "text/html": [
       "<div>\n",
       "<style scoped>\n",
       "    .dataframe tbody tr th:only-of-type {\n",
       "        vertical-align: middle;\n",
       "    }\n",
       "\n",
       "    .dataframe tbody tr th {\n",
       "        vertical-align: top;\n",
       "    }\n",
       "\n",
       "    .dataframe thead th {\n",
       "        text-align: right;\n",
       "    }\n",
       "</style>\n",
       "<table border=\"1\" class=\"dataframe\">\n",
       "  <thead>\n",
       "    <tr style=\"text-align: right;\">\n",
       "      <th></th>\n",
       "      <th>Class_ID</th>\n",
       "      <th>Rank_name</th>\n",
       "      <th>Loyalty_Points</th>\n",
       "    </tr>\n",
       "  </thead>\n",
       "  <tbody>\n",
       "    <tr>\n",
       "      <th>0</th>\n",
       "      <td>1</td>\n",
       "      <td>STANDARD</td>\n",
       "      <td>999</td>\n",
       "    </tr>\n",
       "    <tr>\n",
       "      <th>1</th>\n",
       "      <td>2</td>\n",
       "      <td>SILVER</td>\n",
       "      <td>1999</td>\n",
       "    </tr>\n",
       "    <tr>\n",
       "      <th>2</th>\n",
       "      <td>3</td>\n",
       "      <td>GOLD</td>\n",
       "      <td>4999</td>\n",
       "    </tr>\n",
       "    <tr>\n",
       "      <th>3</th>\n",
       "      <td>4</td>\n",
       "      <td>DIAMOND</td>\n",
       "      <td>5000</td>\n",
       "    </tr>\n",
       "  </tbody>\n",
       "</table>\n",
       "</div>"
      ],
      "text/plain": [
       "   Class_ID Rank_name  Loyalty_Points\n",
       "0         1  STANDARD             999\n",
       "1         2    SILVER            1999\n",
       "2         3      GOLD            4999\n",
       "3         4   DIAMOND            5000"
      ]
     },
     "execution_count": 15,
     "metadata": {},
     "output_type": "execute_result"
    }
   ],
   "source": [
    "rankDf = pd.DataFrame({'Class_ID': [1, 2, 3, 4],\n",
    "        'Rank_name': ['STANDARD', 'SILVER', 'GOLD', 'DIAMOND'],\n",
    "        'Loyalty_Points': [999, 1999, 4999, 5000]})\n",
    "rankDf.head()"
   ]
  },
  {
   "cell_type": "markdown",
   "metadata": {},
   "source": [
    "## Normalize data"
   ]
  },
  {
   "cell_type": "code",
   "execution_count": 16,
   "metadata": {},
   "outputs": [
    {
     "data": {
      "text/html": [
       "<div>\n",
       "<style scoped>\n",
       "    .dataframe tbody tr th:only-of-type {\n",
       "        vertical-align: middle;\n",
       "    }\n",
       "\n",
       "    .dataframe tbody tr th {\n",
       "        vertical-align: top;\n",
       "    }\n",
       "\n",
       "    .dataframe thead th {\n",
       "        text-align: right;\n",
       "    }\n",
       "</style>\n",
       "<table border=\"1\" class=\"dataframe\">\n",
       "  <thead>\n",
       "    <tr style=\"text-align: right;\">\n",
       "      <th></th>\n",
       "      <th>Service Group</th>\n",
       "      <th>Point Mechanism</th>\n",
       "      <th>Maximum Point Per Trans</th>\n",
       "    </tr>\n",
       "  </thead>\n",
       "  <tbody>\n",
       "    <tr>\n",
       "      <th>0</th>\n",
       "      <td>supermarket</td>\n",
       "      <td>1</td>\n",
       "      <td>500</td>\n",
       "    </tr>\n",
       "    <tr>\n",
       "      <th>1</th>\n",
       "      <td>data</td>\n",
       "      <td>10</td>\n",
       "      <td>1000</td>\n",
       "    </tr>\n",
       "    <tr>\n",
       "      <th>2</th>\n",
       "      <td>cvs</td>\n",
       "      <td>1</td>\n",
       "      <td>300</td>\n",
       "    </tr>\n",
       "    <tr>\n",
       "      <th>3</th>\n",
       "      <td>marketplace</td>\n",
       "      <td>1</td>\n",
       "      <td>500</td>\n",
       "    </tr>\n",
       "    <tr>\n",
       "      <th>4</th>\n",
       "      <td>Coffee chains and Milk tea</td>\n",
       "      <td>1</td>\n",
       "      <td>500</td>\n",
       "    </tr>\n",
       "  </tbody>\n",
       "</table>\n",
       "</div>"
      ],
      "text/plain": [
       "                Service Group  Point Mechanism  Maximum Point Per Trans\n",
       "0                 supermarket                1                      500\n",
       "1                        data               10                     1000\n",
       "2                         cvs                1                      300\n",
       "3                 marketplace                1                      500\n",
       "4  Coffee chains and Milk tea                1                      500"
      ]
     },
     "execution_count": 16,
     "metadata": {},
     "output_type": "execute_result"
    }
   ],
   "source": [
    "# Convert `Point Mechanism` to number\n",
    "pointDf['Point Mechanism'] = pd.to_numeric(pointDf['Point Mechanism'].str.replace(' points/1000VND GMV', ''), errors='coerce')\n",
    "\n",
    "# Convert `Maximum Point Per Trans` to number\n",
    "pointDf['Maximum Point Per Trans'] = pd.to_numeric(pointDf['Maximum Point Per Trans'].str.replace(' points', ''), errors='coerce')\n",
    "\n",
    "pointDf.head()"
   ]
  },
  {
   "attachments": {},
   "cell_type": "markdown",
   "metadata": {},
   "source": [
    "## Part 1\n",
    "\n",
    "### Combined with the `Loyalty Points` table, add a column `Loyalty_Points` in the `Transactions` table with the given rules. \n",
    "\n",
    "\\* Important Note: \n",
    "- Loyalty points calculated for each transaction will expire after 30 days since the day that transaction was made\n",
    "- User's rank will be reduced or increased according to the change of their accumulated loyalty points"
   ]
  },
  {
   "cell_type": "code",
   "execution_count": 21,
   "metadata": {},
   "outputs": [
    {
     "data": {
      "text/html": [
       "<div>\n",
       "<style scoped>\n",
       "    .dataframe tbody tr th:only-of-type {\n",
       "        vertical-align: middle;\n",
       "    }\n",
       "\n",
       "    .dataframe tbody tr th {\n",
       "        vertical-align: top;\n",
       "    }\n",
       "\n",
       "    .dataframe thead th {\n",
       "        text-align: right;\n",
       "    }\n",
       "</style>\n",
       "<table border=\"1\" class=\"dataframe\">\n",
       "  <thead>\n",
       "    <tr style=\"text-align: right;\">\n",
       "      <th></th>\n",
       "      <th>DATE</th>\n",
       "      <th>Order_id</th>\n",
       "      <th>NEWVERTICAL_Merchant</th>\n",
       "      <th>MerchantID</th>\n",
       "      <th>User_id</th>\n",
       "      <th>GMV</th>\n",
       "      <th>Service Group</th>\n",
       "      <th>Loyalty_Points</th>\n",
       "    </tr>\n",
       "  </thead>\n",
       "  <tbody>\n",
       "    <tr>\n",
       "      <th>0</th>\n",
       "      <td>2021-01-01</td>\n",
       "      <td>8733622706</td>\n",
       "      <td>Marketplace</td>\n",
       "      <td>37</td>\n",
       "      <td>61386143</td>\n",
       "      <td>100000</td>\n",
       "      <td>marketplace</td>\n",
       "      <td>500</td>\n",
       "    </tr>\n",
       "    <tr>\n",
       "      <th>1</th>\n",
       "      <td>2021-01-01</td>\n",
       "      <td>8726857991</td>\n",
       "      <td>Supermarket</td>\n",
       "      <td>9</td>\n",
       "      <td>48453125</td>\n",
       "      <td>5000</td>\n",
       "      <td>supermarket</td>\n",
       "      <td>500</td>\n",
       "    </tr>\n",
       "    <tr>\n",
       "      <th>2</th>\n",
       "      <td>2021-01-01</td>\n",
       "      <td>8737326894</td>\n",
       "      <td>Supermarket</td>\n",
       "      <td>9</td>\n",
       "      <td>49921027</td>\n",
       "      <td>106600</td>\n",
       "      <td>supermarket</td>\n",
       "      <td>500</td>\n",
       "    </tr>\n",
       "    <tr>\n",
       "      <th>3</th>\n",
       "      <td>2021-01-01</td>\n",
       "      <td>8732579078</td>\n",
       "      <td>supermarket</td>\n",
       "      <td>9</td>\n",
       "      <td>46022523</td>\n",
       "      <td>270000</td>\n",
       "      <td>supermarket</td>\n",
       "      <td>500</td>\n",
       "    </tr>\n",
       "    <tr>\n",
       "      <th>4</th>\n",
       "      <td>2021-01-01</td>\n",
       "      <td>8725567343</td>\n",
       "      <td>CVS</td>\n",
       "      <td>8</td>\n",
       "      <td>44014594</td>\n",
       "      <td>68000</td>\n",
       "      <td>cvs</td>\n",
       "      <td>500</td>\n",
       "    </tr>\n",
       "  </tbody>\n",
       "</table>\n",
       "</div>"
      ],
      "text/plain": [
       "        DATE    Order_id NEWVERTICAL_Merchant  MerchantID   User_id     GMV  \\\n",
       "0 2021-01-01  8733622706          Marketplace          37  61386143  100000   \n",
       "1 2021-01-01  8726857991          Supermarket           9  48453125    5000   \n",
       "2 2021-01-01  8737326894          Supermarket           9  49921027  106600   \n",
       "3 2021-01-01  8732579078          supermarket           9  46022523  270000   \n",
       "4 2021-01-01  8725567343                  CVS           8  44014594   68000   \n",
       "\n",
       "  Service Group  Loyalty_Points  \n",
       "0   marketplace             500  \n",
       "1   supermarket             500  \n",
       "2   supermarket             500  \n",
       "3   supermarket             500  \n",
       "4           cvs             500  "
      ]
     },
     "execution_count": 21,
     "metadata": {},
     "output_type": "execute_result"
    }
   ],
   "source": [
    "import datetime\n",
    "\n",
    "current_date = datetime.datetime.now().date()\n",
    "thirty_days_ago = current_date - datetime.timedelta(days=30)\n",
    "thirty_days_ago_tsmp = pd.Timestamp(current_date)\n",
    "\n",
    "mergedDf = pd.merge(transDf, pointDf, on='Service Group')\n",
    "mergedDf['Loyalty_Points'] = mergedDf.apply(\n",
    "  # lambda x: min(x['GMV'] * x['Point Mechanism'], x['Maximum Point Per Trans']) if x['DATE'] > thirty_days_ago_tsmp else 0\n",
    "  lambda x: min(x['GMV'] * x['Point Mechanism'], x['Maximum Point Per Trans'])\n",
    "  , axis=1)\n",
    "\n",
    "transDf['Loyalty_Points'] = mergedDf['Loyalty_Points']\n",
    "transDf.head()"
   ]
  },
  {
   "attachments": {},
   "cell_type": "markdown",
   "metadata": {},
   "source": [
    "### Create another table named `Loyalty Ranking` which must include columns named `Rank_name` and `Calculated_points` to calculate the Rank of each user on a daily basis."
   ]
  },
  {
   "cell_type": "code",
   "execution_count": 22,
   "metadata": {},
   "outputs": [
    {
     "data": {
      "text/html": [
       "<div>\n",
       "<style scoped>\n",
       "    .dataframe tbody tr th:only-of-type {\n",
       "        vertical-align: middle;\n",
       "    }\n",
       "\n",
       "    .dataframe tbody tr th {\n",
       "        vertical-align: top;\n",
       "    }\n",
       "\n",
       "    .dataframe thead th {\n",
       "        text-align: right;\n",
       "    }\n",
       "</style>\n",
       "<table border=\"1\" class=\"dataframe\">\n",
       "  <thead>\n",
       "    <tr style=\"text-align: right;\">\n",
       "      <th></th>\n",
       "      <th>DATE</th>\n",
       "      <th>User_id</th>\n",
       "      <th>Calculated_points</th>\n",
       "      <th>Rank_name</th>\n",
       "    </tr>\n",
       "  </thead>\n",
       "  <tbody>\n",
       "    <tr>\n",
       "      <th>0</th>\n",
       "      <td>2021-01-01</td>\n",
       "      <td>11368352</td>\n",
       "      <td>500</td>\n",
       "      <td>STANDARD</td>\n",
       "    </tr>\n",
       "    <tr>\n",
       "      <th>1</th>\n",
       "      <td>2021-01-01</td>\n",
       "      <td>31058664</td>\n",
       "      <td>500</td>\n",
       "      <td>STANDARD</td>\n",
       "    </tr>\n",
       "    <tr>\n",
       "      <th>2</th>\n",
       "      <td>2021-01-01</td>\n",
       "      <td>36415344</td>\n",
       "      <td>500</td>\n",
       "      <td>STANDARD</td>\n",
       "    </tr>\n",
       "    <tr>\n",
       "      <th>3</th>\n",
       "      <td>2021-01-01</td>\n",
       "      <td>44014594</td>\n",
       "      <td>1000</td>\n",
       "      <td>STANDARD</td>\n",
       "    </tr>\n",
       "    <tr>\n",
       "      <th>4</th>\n",
       "      <td>2021-01-01</td>\n",
       "      <td>46022523</td>\n",
       "      <td>500</td>\n",
       "      <td>STANDARD</td>\n",
       "    </tr>\n",
       "  </tbody>\n",
       "</table>\n",
       "</div>"
      ],
      "text/plain": [
       "        DATE   User_id  Calculated_points Rank_name\n",
       "0 2021-01-01  11368352                500  STANDARD\n",
       "1 2021-01-01  31058664                500  STANDARD\n",
       "2 2021-01-01  36415344                500  STANDARD\n",
       "3 2021-01-01  44014594               1000  STANDARD\n",
       "4 2021-01-01  46022523                500  STANDARD"
      ]
     },
     "execution_count": 22,
     "metadata": {},
     "output_type": "execute_result"
    }
   ],
   "source": [
    "def get_rank(point):\n",
    "    ranks = rankDf[rankDf['Loyalty_Points'] < point].sort_values(by=['Loyalty_Points'], ascending=False)\n",
    "    highest_rank = ranks.iloc[0]['Rank_name'] if len(ranks) >= 1 else rankDf.iloc[0]['Rank_name']\n",
    "    return highest_rank\n",
    "\n",
    "# add Calculated_points column\n",
    "userRankDf = transDf.groupby(['DATE', 'User_id'])['Loyalty_Points'].sum().reset_index()\n",
    "userRankDf.rename(columns={'Loyalty_Points': 'Calculated_points'}, inplace=True)\n",
    "\n",
    "# add Rank_name column\n",
    "userRankDf['Rank_name'] = userRankDf['Calculated_points'].apply(get_rank)\n",
    "\n",
    "userRankDf.head()"
   ]
  },
  {
   "attachments": {},
   "cell_type": "markdown",
   "metadata": {},
   "source": [
    "### At the end of Mar 2022, how many users achieved the GOLD rank?\n"
   ]
  },
  {
   "cell_type": "code",
   "execution_count": 23,
   "metadata": {},
   "outputs": [
    {
     "name": "stdout",
     "output_type": "stream",
     "text": [
      "At the end of Mar 2022, \"27\" users achieved the GOLD rank.\n"
     ]
    }
   ],
   "source": [
    "end_of_mar_2022 = pd.Timestamp('2022-03-31')\n",
    "rank = 'GOLD'\n",
    "result = userRankDf[(userRankDf['DATE'] <= end_of_mar_2022) & (userRankDf['Rank_name'] == rank)]['User_id'].nunique()\n",
    "print(f'At the end of Mar 2022, \"{result}\" users achieved the {rank} rank.')"
   ]
  },
  {
   "attachments": {},
   "cell_type": "markdown",
   "metadata": {},
   "source": [
    "## Save data to files"
   ]
  },
  {
   "cell_type": "code",
   "execution_count": 24,
   "metadata": {},
   "outputs": [],
   "source": [
    "transDf.to_excel('Transactions.xlsx', index=False)\n",
    "userRankDf.to_excel('Loyalty Ranking.xlsx', index=False)"
   ]
  }
 ],
 "metadata": {
  "kernelspec": {
   "display_name": "Python 3",
   "language": "python",
   "name": "python3"
  },
  "language_info": {
   "codemirror_mode": {
    "name": "ipython",
    "version": 3
   },
   "file_extension": ".py",
   "mimetype": "text/x-python",
   "name": "python",
   "nbconvert_exporter": "python",
   "pygments_lexer": "ipython3",
   "version": "3.8.9"
  },
  "orig_nbformat": 4,
  "vscode": {
   "interpreter": {
    "hash": "31f2aee4e71d21fbe5cf8b01ff0e069b9275f58929596ceb00d14d90e3e16cd6"
   }
  }
 },
 "nbformat": 4,
 "nbformat_minor": 2
}
